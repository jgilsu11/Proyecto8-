{
 "cells": [
  {
   "cell_type": "code",
   "execution_count": 8,
   "metadata": {},
   "outputs": [
    {
     "name": "stdout",
     "output_type": "stream",
     "text": [
      "The autoreload extension is already loaded. To reload it, use:\n",
      "  %reload_ext autoreload\n"
     ]
    }
   ],
   "source": [
    "# Para no tener que hacer restart con cada actualizacion \n",
    "\n",
    "%load_ext autoreload\n",
    "%autoreload 2\n",
    "\n",
    "\n",
    "\n",
    "# Tratamiento de datos\n",
    "# -----------------------------------------------------------------------\n",
    "import numpy as np\n",
    "import pandas as pd\n",
    "\n",
    "# Otros objetivos\n",
    "# -----------------------------------------------------------------------\n",
    "import math\n",
    "\n",
    "# Gráficos\n",
    "# -----------------------------------------------------------------------\n",
    "import seaborn as sns\n",
    "import matplotlib.pyplot as plt\n",
    "pd.options.display.float_format = \"{:,.2f}\".format    #para la notación\n",
    "pd.set_option(\"display.max_columns\", None)\n",
    "import pickle\n",
    "\n",
    "from itertools import product, combinations\n",
    "\n",
    "from sklearn.neighbors import LocalOutlierFactor # para detectar outliers usando el método LOF\n",
    "from sklearn.ensemble import IsolationForest # para detectar outliers usando el metodo IF\n",
    "import tqdm as tqdm\n",
    "from scipy.stats import chi2_contingency\n",
    "import os\n",
    "import sys \n",
    "sys.path.append(os.path.abspath(\"../../src\"))   \n",
    "import Soporte_ajuste_modelos as f\n",
    "\n",
    "# Para tratar el problema de desbalance\n",
    "# -----------------------------------------------------------------------\n",
    "# from imblearn.over_sampling import RandomOverSampler, SMOTE\n",
    "# from imblearn.under_sampling import RandomUnderSampler\n",
    "# from imblearn.combine import SMOTETomek\n",
    "\n",
    "\n",
    "from sklearn.model_selection import train_test_split,GridSearchCV\n",
    "# Para realizar la clasificación y la evaluación del modelo\n",
    "# -----------------------------------------------------------------------\n",
    "from sklearn.linear_model import LogisticRegression\n",
    "from sklearn.model_selection import train_test_split\n",
    "from sklearn.metrics import accuracy_score, precision_score, recall_score, f1_score, confusion_matrix, roc_auc_score, roc_curve\n",
    "\n",
    "\n",
    "from sklearn import tree\n",
    "\n",
    "# Para realizar la regresión lineal y la evaluación del modelo\n",
    "# -----------------------------------------------------------------------\n",
    "from sklearn.linear_model import LinearRegression\n",
    "from sklearn.tree import DecisionTreeRegressor, plot_tree\n",
    "from sklearn.ensemble import RandomForestRegressor\n",
    "from sklearn.ensemble import GradientBoostingRegressor\n",
    "from sklearn.model_selection import train_test_split,GridSearchCV\n",
    "from sklearn.metrics import r2_score, mean_squared_error, mean_absolute_error\n",
    "from sklearn.svm import SVC\n",
    "import pickle\n",
    "\n",
    "from sklearn.model_selection import KFold,LeaveOneOut, cross_val_score\n",
    "\n",
    "\n",
    "from sklearn.preprocessing import StandardScaler\n",
    "\n",
    "from tqdm import tqdm\n",
    "\n",
    "\n",
    "# Ignorar los warnings\n",
    "# -----------------------------------------------------------------------\n",
    "import warnings\n",
    "warnings.filterwarnings('ignore')\n",
    "import os \n",
    "import sys\n",
    "\n",
    "\n",
    "\n",
    "\n",
    "pd.options.display.float_format = \"{:,.2f}\".format    #para la notación\n",
    "pd.set_option(\"display.max_columns\", None)"
   ]
  },
  {
   "cell_type": "code",
   "execution_count": 9,
   "metadata": {},
   "outputs": [],
   "source": [
    "df_preprocesado=pd.read_pickle(\"../../datos/datos2/datos_out_balanced.pkl\").reset_index(drop=True)"
   ]
  },
  {
   "cell_type": "markdown",
   "metadata": {},
   "source": [
    "## LOG REG"
   ]
  },
  {
   "cell_type": "code",
   "execution_count": 10,
   "metadata": {},
   "outputs": [
    {
     "name": "stdout",
     "output_type": "stream",
     "text": [
      "-------------------------------------------------\n",
      "El mejor modelo es:\n",
      "LogisticRegression(C=100, penalty='l1', random_state=42, solver='liblinear')\n",
      "-------------------------------------------------\n",
      "Los parametros actuales son:\n"
     ]
    },
    {
     "data": {
      "text/plain": [
       "{'penalty': ['l1', 'l2', 'elasticnet', 'none'],\n",
       " 'C': [0.01, 0.1, 1, 10, 100],\n",
       " 'solver': ['liblinear', 'saga'],\n",
       " 'max_iter': [100, 200, 500]}"
      ]
     },
     "metadata": {},
     "output_type": "display_data"
    }
   ],
   "source": [
    "modelos_clasificacion=f.AnalisisModelosClasificacion(df_preprocesado, \"Attrition\",train_size=0.8)\n",
    "modelos_clasificacion.ajustar_modelo(\"logistic_regression\", param_grid=None, cross_validation = 5,scoring=\"recall\", ruta_guardar_modelo = \"../../transformers/modelos2\",nombre_modelo_guardar=\"modelo_log2.pkl\")"
   ]
  },
  {
   "cell_type": "code",
   "execution_count": 11,
   "metadata": {},
   "outputs": [],
   "source": [
    "metricas_log=modelos_clasificacion.calcular_metricas(modelo_nombre=\"logistic_regression\").T"
   ]
  },
  {
   "cell_type": "code",
   "execution_count": 12,
   "metadata": {},
   "outputs": [],
   "source": [
    "# with open('../../transformers/modelos2/modelo_log2.pkl', 'rb') as l:\n",
    "#     modelo_log2 = pickle.load(l)\n",
    "\n",
    "# modelos_clasificacion.calcular_metricas(modelo_nombre=\"logistic_regression\").T"
   ]
  },
  {
   "cell_type": "markdown",
   "metadata": {},
   "source": [
    "## DECISION TREE"
   ]
  },
  {
   "cell_type": "markdown",
   "metadata": {},
   "source": [
    "***Modelo B.7***"
   ]
  },
  {
   "cell_type": "code",
   "execution_count": 13,
   "metadata": {},
   "outputs": [
    {
     "name": "stdout",
     "output_type": "stream",
     "text": [
      "-------------------------------------------------\n",
      "El mejor modelo es:\n",
      "DecisionTreeClassifier(max_depth=15, min_samples_leaf=10, min_samples_split=4,\n",
      "                       random_state=42)\n",
      "-------------------------------------------------\n",
      "Los parametros actuales son:\n"
     ]
    },
    {
     "data": {
      "text/plain": [
       "{'max_depth': [3, 5, 7, 10],\n",
       " 'min_samples_split': [2, 5, 10],\n",
       " 'min_samples_leaf': [1, 2, 4]}"
      ]
     },
     "metadata": {},
     "output_type": "display_data"
    }
   ],
   "source": [
    "modelos_clasificacion=f.AnalisisModelosClasificacion(df_preprocesado, \"Attrition\",train_size=0.7)\n",
    "modelos_clasificacion.ajustar_modelo(\"tree\", param_grid={'max_depth': [ 15,17,20,30,40],'min_samples_split': [4,5,10,20,30, 40],'min_samples_leaf': [4,5,6,10,20]}, cross_validation = 5,scoring=\"recall\", ruta_guardar_modelo = \"../../transformers/modelos2\",nombre_modelo_guardar=\"modelo_tree2.B.7prueba.pkl\")"
   ]
  },
  {
   "cell_type": "code",
   "execution_count": 14,
   "metadata": {},
   "outputs": [],
   "source": [
    "metricas_tree=modelos_clasificacion.calcular_metricas(modelo_nombre=\"tree\").T"
   ]
  },
  {
   "cell_type": "markdown",
   "metadata": {},
   "source": [
    "## RANDOM FOREST"
   ]
  },
  {
   "cell_type": "markdown",
   "metadata": {},
   "source": [
    "### Modelo B.7"
   ]
  },
  {
   "cell_type": "code",
   "execution_count": 15,
   "metadata": {},
   "outputs": [
    {
     "name": "stdout",
     "output_type": "stream",
     "text": [
      "-------------------------------------------------\n",
      "El mejor modelo es:\n",
      "RandomForestClassifier(max_depth=15, min_samples_leaf=4, random_state=42)\n",
      "-------------------------------------------------\n",
      "Los parametros actuales son:\n"
     ]
    },
    {
     "data": {
      "text/plain": [
       "{'n_estimators': [50, 100, 200],\n",
       " 'max_depth': [None, 10, 20, 30],\n",
       " 'min_samples_split': [2, 5, 10],\n",
       " 'min_samples_leaf': [1, 2, 4],\n",
       " 'max_features': ['auto', 'sqrt', 'log2']}"
      ]
     },
     "metadata": {},
     "output_type": "display_data"
    }
   ],
   "source": [
    "modelos_clasificacion=f.AnalisisModelosClasificacion(df_preprocesado, \"Attrition\",train_size=0.7)\n",
    "modelos_clasificacion.ajustar_modelo(\"random_forest\", param_grid={'n_estimators': [50, 100, 200],\n",
    " 'max_depth': [10, 15,20,25, 30,40],\n",
    " 'min_samples_split': [2, 5, 10,30,40],\n",
    " 'min_samples_leaf': [4,6,10,20],\n",
    " 'max_features': ['auto', 'sqrt', 'log2']},\n",
    " cross_validation = 5,scoring=\"recall\", ruta_guardar_modelo = \"../../transformers/modelos2\",nombre_modelo_guardar=\"modelo_random2B7.pkl\")"
   ]
  },
  {
   "cell_type": "code",
   "execution_count": 16,
   "metadata": {},
   "outputs": [],
   "source": [
    "metricas_rf=modelos_clasificacion.calcular_metricas(modelo_nombre=\"random_forest\").T"
   ]
  },
  {
   "cell_type": "markdown",
   "metadata": {},
   "source": [
    "## GRADIENT"
   ]
  },
  {
   "cell_type": "markdown",
   "metadata": {},
   "source": [
    "### Modelo E.7"
   ]
  },
  {
   "cell_type": "code",
   "execution_count": 17,
   "metadata": {},
   "outputs": [
    {
     "name": "stdout",
     "output_type": "stream",
     "text": [
      "-------------------------------------------------\n",
      "El mejor modelo es:\n",
      "GradientBoostingClassifier(max_depth=20, min_samples_leaf=5,\n",
      "                           min_samples_split=14, n_estimators=170,\n",
      "                           random_state=42, subsample=0.8)\n",
      "-------------------------------------------------\n",
      "Los parametros actuales son:\n"
     ]
    },
    {
     "data": {
      "text/plain": [
       "{'n_estimators': [100, 200],\n",
       " 'learning_rate': [0.01, 0.1, 0.2],\n",
       " 'max_depth': [3, 4, 5],\n",
       " 'min_samples_split': [2, 5, 10],\n",
       " 'min_samples_leaf': [1, 2, 4],\n",
       " 'subsample': [0.8, 1.0]}"
      ]
     },
     "metadata": {},
     "output_type": "display_data"
    }
   ],
   "source": [
    "modelos_clasificacion=f.AnalisisModelosClasificacion(df_preprocesado, \"Attrition\",train_size=0.7)\n",
    "modelos_clasificacion.ajustar_modelo(\"gradient_boosting\", param_grid={'n_estimators': [160,170],\n",
    " 'learning_rate': [0.01, 0.05, 0.1],\n",
    " 'max_depth': [20],\n",
    " 'min_samples_split': [11,12,14],\n",
    " 'min_samples_leaf': [5],\n",
    " 'subsample': [0.8, 1.0]}, cross_validation = 5,scoring=\"recall\", ruta_guardar_modelo = \"../../transformers/modelos2\",nombre_modelo_guardar=\"modelo_gradient2.E.7.pkl\")"
   ]
  },
  {
   "cell_type": "code",
   "execution_count": 18,
   "metadata": {},
   "outputs": [],
   "source": [
    "metricas_gradient=modelos_clasificacion.calcular_metricas(modelo_nombre=\"gradient_boosting\").T"
   ]
  },
  {
   "cell_type": "markdown",
   "metadata": {},
   "source": [
    "## XGBOOST"
   ]
  },
  {
   "cell_type": "markdown",
   "metadata": {},
   "source": [
    "\n",
    "### Modelo C.7  "
   ]
  },
  {
   "cell_type": "code",
   "execution_count": 19,
   "metadata": {},
   "outputs": [
    {
     "name": "stdout",
     "output_type": "stream",
     "text": [
      "-------------------------------------------------\n",
      "El mejor modelo es:\n",
      "XGBClassifier(base_score=None, booster=None, callbacks=None,\n",
      "              colsample_bylevel=None, colsample_bynode=None,\n",
      "              colsample_bytree=1.0, device=None, early_stopping_rounds=None,\n",
      "              enable_categorical=False, eval_metric=None, feature_types=None,\n",
      "              gamma=None, grow_policy=None, importance_type=None,\n",
      "              interaction_constraints=None, learning_rate=0.1, max_bin=None,\n",
      "              max_cat_threshold=None, max_cat_to_onehot=None,\n",
      "              max_delta_step=None, max_depth=4, max_leaves=None,\n",
      "              min_child_weight=5, missing=nan, monotone_constraints=None,\n",
      "              multi_strategy=None, n_estimators=270, n_jobs=None,\n",
      "              num_parallel_tree=None, random_state=42, ...)\n",
      "-------------------------------------------------\n",
      "Los parametros actuales son:\n"
     ]
    },
    {
     "data": {
      "text/plain": [
       "{'n_estimators': [100, 200],\n",
       " 'learning_rate': [0.01, 0.1, 0.2],\n",
       " 'max_depth': [3, 4, 5],\n",
       " 'min_child_weight': [1, 3, 5],\n",
       " 'subsample': [0.8, 1.0],\n",
       " 'colsample_bytree': [0.8, 1.0]}"
      ]
     },
     "metadata": {},
     "output_type": "display_data"
    }
   ],
   "source": [
    "modelos_clasificacion=f.AnalisisModelosClasificacion(df_preprocesado, \"Attrition\",train_size=0.7)\n",
    "modelos_clasificacion.ajustar_modelo(\"xgboost\", param_grid={'n_estimators': [210, 270],\n",
    " 'learning_rate': [0.01, 0.05, 0.1],\n",
    " 'max_depth': [4, 5,6,8],\n",
    " 'min_child_weight': [3, 4,5],\n",
    " 'subsample': [0.8, 1.0],\n",
    " 'colsample_bytree': [0.8, 1.0]}, cross_validation = 5,scoring=\"recall\", ruta_guardar_modelo = \"../../transformers/modelos2\",nombre_modelo_guardar=\"modelo_xgboost2.C.7.pkl\")"
   ]
  },
  {
   "cell_type": "code",
   "execution_count": 20,
   "metadata": {},
   "outputs": [],
   "source": [
    "metricas_xgb=modelos_clasificacion.calcular_metricas(modelo_nombre=\"xgboost\").T"
   ]
  },
  {
   "cell_type": "markdown",
   "metadata": {},
   "source": [
    "## SVC  "
   ]
  },
  {
   "cell_type": "markdown",
   "metadata": {},
   "source": [
    "\n",
    "\n",
    "### Modelo A.7\n"
   ]
  },
  {
   "cell_type": "code",
   "execution_count": 21,
   "metadata": {},
   "outputs": [
    {
     "name": "stdout",
     "output_type": "stream",
     "text": [
      "-------------------------------------------------\n",
      "El mejor modelo es:\n",
      "SVC(random_state=42)\n",
      "-------------------------------------------------\n",
      "Los parametros actuales son:\n"
     ]
    },
    {
     "data": {
      "text/plain": [
       "{}"
      ]
     },
     "metadata": {},
     "output_type": "display_data"
    }
   ],
   "source": [
    "modelos_clasificacion=f.AnalisisModelosClasificacion(df_preprocesado, \"Attrition\",train_size=0.7)\n",
    "modelos_clasificacion.ajustar_modelo(\"svc\", param_grid=None, cross_validation = 5,scoring=\"recall\", ruta_guardar_modelo = \"../../transformers/modelos2\",nombre_modelo_guardar=\"modelo_svc2.7.pkl\")"
   ]
  },
  {
   "cell_type": "code",
   "execution_count": 22,
   "metadata": {},
   "outputs": [],
   "source": [
    "metricas_svc=modelos_clasificacion.calcular_metricas(modelo_nombre=\"svc\").T"
   ]
  },
  {
   "cell_type": "code",
   "execution_count": 23,
   "metadata": {},
   "outputs": [],
   "source": [
    "lista_metodos=[\"logistica\", \"logistica\", \"decision tree\", \"decision tree\", \"random forest\", \"random forest\", \"gradient\", \"gradient\", \"xgboost\", \"xgboost\", \"svc\", \"svc\"]"
   ]
  },
  {
   "cell_type": "code",
   "execution_count": 24,
   "metadata": {},
   "outputs": [],
   "source": [
    "df_metricas_comparacion_modelos=pd.DataFrame()\n",
    "df_metricas_comparacion_modelos=pd.concat([df_metricas_comparacion_modelos,metricas_log,metricas_tree,metricas_rf,metricas_gradient,metricas_xgb,metricas_svc], axis=0)\n",
    "df_metricas_comparacion_modelos[\"modelo\"]= lista_metodos\n"
   ]
  },
  {
   "cell_type": "code",
   "execution_count": 25,
   "metadata": {},
   "outputs": [
    {
     "data": {
      "text/html": [
       "<style type=\"text/css\">\n",
       "#T_72937_row0_col0, #T_72937_row0_col1, #T_72937_row0_col2, #T_72937_row0_col3, #T_72937_row0_col4, #T_72937_row0_col5, #T_72937_row0_col6, #T_72937_row0_col7, #T_72937_row1_col0, #T_72937_row1_col1, #T_72937_row1_col2, #T_72937_row1_col3, #T_72937_row1_col4, #T_72937_row1_col5, #T_72937_row1_col6, #T_72937_row1_col7 {\n",
       "  background-color: #b3d1ff;\n",
       "  color: black;\n",
       "}\n",
       "#T_72937_row2_col0, #T_72937_row2_col1, #T_72937_row2_col2, #T_72937_row2_col3, #T_72937_row2_col4, #T_72937_row2_col5, #T_72937_row2_col6, #T_72937_row2_col7, #T_72937_row3_col0, #T_72937_row3_col1, #T_72937_row3_col2, #T_72937_row3_col3, #T_72937_row3_col4, #T_72937_row3_col5, #T_72937_row3_col6, #T_72937_row3_col7 {\n",
       "  background-color: #e6b3e0;\n",
       "  color: black;\n",
       "}\n",
       "#T_72937_row4_col0, #T_72937_row4_col1, #T_72937_row4_col2, #T_72937_row4_col3, #T_72937_row4_col4, #T_72937_row4_col5, #T_72937_row4_col6, #T_72937_row4_col7, #T_72937_row5_col0, #T_72937_row5_col1, #T_72937_row5_col2, #T_72937_row5_col3, #T_72937_row5_col4, #T_72937_row5_col5, #T_72937_row5_col6, #T_72937_row5_col7 {\n",
       "  background-color: #c2f0c2;\n",
       "  color: black;\n",
       "}\n",
       "#T_72937_row6_col0, #T_72937_row6_col1, #T_72937_row6_col2, #T_72937_row6_col3, #T_72937_row6_col4, #T_72937_row6_col5, #T_72937_row6_col6, #T_72937_row6_col7, #T_72937_row7_col0, #T_72937_row7_col1, #T_72937_row7_col2, #T_72937_row7_col3, #T_72937_row7_col4, #T_72937_row7_col5, #T_72937_row7_col6, #T_72937_row7_col7 {\n",
       "  background-color: #ffd9b3;\n",
       "  color: black;\n",
       "}\n",
       "#T_72937_row8_col0, #T_72937_row8_col1, #T_72937_row8_col2, #T_72937_row8_col3, #T_72937_row8_col4, #T_72937_row8_col5, #T_72937_row8_col6, #T_72937_row8_col7, #T_72937_row9_col0, #T_72937_row9_col1, #T_72937_row9_col2, #T_72937_row9_col3, #T_72937_row9_col4, #T_72937_row9_col5, #T_72937_row9_col6, #T_72937_row9_col7 {\n",
       "  background-color: #f7b3c2;\n",
       "  color: black;\n",
       "}\n",
       "#T_72937_row10_col0, #T_72937_row10_col1, #T_72937_row10_col2, #T_72937_row10_col3, #T_72937_row10_col4, #T_72937_row10_col5, #T_72937_row10_col6, #T_72937_row10_col7, #T_72937_row11_col0, #T_72937_row11_col1, #T_72937_row11_col2, #T_72937_row11_col3, #T_72937_row11_col4, #T_72937_row11_col5, #T_72937_row11_col6, #T_72937_row11_col7 {\n",
       "  background-color: #dbdcff;\n",
       "  color: black;\n",
       "}\n",
       "</style>\n",
       "<table id=\"T_72937\">\n",
       "  <thead>\n",
       "    <tr>\n",
       "      <th class=\"blank level0\" >&nbsp;</th>\n",
       "      <th id=\"T_72937_level0_col0\" class=\"col_heading level0 col0\" >index</th>\n",
       "      <th id=\"T_72937_level0_col1\" class=\"col_heading level0 col1\" >accuracy</th>\n",
       "      <th id=\"T_72937_level0_col2\" class=\"col_heading level0 col2\" >precision</th>\n",
       "      <th id=\"T_72937_level0_col3\" class=\"col_heading level0 col3\" >recall</th>\n",
       "      <th id=\"T_72937_level0_col4\" class=\"col_heading level0 col4\" >f1</th>\n",
       "      <th id=\"T_72937_level0_col5\" class=\"col_heading level0 col5\" >kappa</th>\n",
       "      <th id=\"T_72937_level0_col6\" class=\"col_heading level0 col6\" >auc</th>\n",
       "      <th id=\"T_72937_level0_col7\" class=\"col_heading level0 col7\" >modelo</th>\n",
       "    </tr>\n",
       "  </thead>\n",
       "  <tbody>\n",
       "    <tr>\n",
       "      <th id=\"T_72937_level0_row0\" class=\"row_heading level0 row0\" >0</th>\n",
       "      <td id=\"T_72937_row0_col0\" class=\"data row0 col0\" >train</td>\n",
       "      <td id=\"T_72937_row0_col1\" class=\"data row0 col1\" >0.877583</td>\n",
       "      <td id=\"T_72937_row0_col2\" class=\"data row0 col2\" >0.864328</td>\n",
       "      <td id=\"T_72937_row0_col3\" class=\"data row0 col3\" >0.877583</td>\n",
       "      <td id=\"T_72937_row0_col4\" class=\"data row0 col4\" >0.854651</td>\n",
       "      <td id=\"T_72937_row0_col5\" class=\"data row0 col5\" >0.370448</td>\n",
       "      <td id=\"T_72937_row0_col6\" class=\"data row0 col6\" >0.823874</td>\n",
       "      <td id=\"T_72937_row0_col7\" class=\"data row0 col7\" >logistica</td>\n",
       "    </tr>\n",
       "    <tr>\n",
       "      <th id=\"T_72937_level0_row1\" class=\"row_heading level0 row1\" >1</th>\n",
       "      <td id=\"T_72937_row1_col0\" class=\"data row1 col0\" >test</td>\n",
       "      <td id=\"T_72937_row1_col1\" class=\"data row1 col1\" >0.822222</td>\n",
       "      <td id=\"T_72937_row1_col2\" class=\"data row1 col2\" >0.794636</td>\n",
       "      <td id=\"T_72937_row1_col3\" class=\"data row1 col3\" >0.822222</td>\n",
       "      <td id=\"T_72937_row1_col4\" class=\"data row1 col4\" >0.790895</td>\n",
       "      <td id=\"T_72937_row1_col5\" class=\"data row1 col5\" >0.266223</td>\n",
       "      <td id=\"T_72937_row1_col6\" class=\"data row1 col6\" >0.790112</td>\n",
       "      <td id=\"T_72937_row1_col7\" class=\"data row1 col7\" >logistica</td>\n",
       "    </tr>\n",
       "    <tr>\n",
       "      <th id=\"T_72937_level0_row2\" class=\"row_heading level0 row2\" >2</th>\n",
       "      <td id=\"T_72937_row2_col0\" class=\"data row2 col0\" >train</td>\n",
       "      <td id=\"T_72937_row2_col1\" class=\"data row2 col1\" >0.876476</td>\n",
       "      <td id=\"T_72937_row2_col2\" class=\"data row2 col2\" >0.862664</td>\n",
       "      <td id=\"T_72937_row2_col3\" class=\"data row2 col3\" >0.876476</td>\n",
       "      <td id=\"T_72937_row2_col4\" class=\"data row2 col4\" >0.860052</td>\n",
       "      <td id=\"T_72937_row2_col5\" class=\"data row2 col5\" >0.425969</td>\n",
       "      <td id=\"T_72937_row2_col6\" class=\"data row2 col6\" >0.915179</td>\n",
       "      <td id=\"T_72937_row2_col7\" class=\"data row2 col7\" >decision tree</td>\n",
       "    </tr>\n",
       "    <tr>\n",
       "      <th id=\"T_72937_level0_row3\" class=\"row_heading level0 row3\" >3</th>\n",
       "      <td id=\"T_72937_row3_col0\" class=\"data row3 col0\" >test</td>\n",
       "      <td id=\"T_72937_row3_col1\" class=\"data row3 col1\" >0.824153</td>\n",
       "      <td id=\"T_72937_row3_col2\" class=\"data row3 col2\" >0.789183</td>\n",
       "      <td id=\"T_72937_row3_col3\" class=\"data row3 col3\" >0.824153</td>\n",
       "      <td id=\"T_72937_row3_col4\" class=\"data row3 col4\" >0.798991</td>\n",
       "      <td id=\"T_72937_row3_col5\" class=\"data row3 col5\" >0.202768</td>\n",
       "      <td id=\"T_72937_row3_col6\" class=\"data row3 col6\" >0.657702</td>\n",
       "      <td id=\"T_72937_row3_col7\" class=\"data row3 col7\" >decision tree</td>\n",
       "    </tr>\n",
       "    <tr>\n",
       "      <th id=\"T_72937_level0_row4\" class=\"row_heading level0 row4\" >4</th>\n",
       "      <td id=\"T_72937_row4_col0\" class=\"data row4 col0\" >train</td>\n",
       "      <td id=\"T_72937_row4_col1\" class=\"data row4 col1\" >0.875568</td>\n",
       "      <td id=\"T_72937_row4_col2\" class=\"data row4 col2\" >0.891589</td>\n",
       "      <td id=\"T_72937_row4_col3\" class=\"data row4 col3\" >0.875568</td>\n",
       "      <td id=\"T_72937_row4_col4\" class=\"data row4 col4\" >0.839452</td>\n",
       "      <td id=\"T_72937_row4_col5\" class=\"data row4 col5\" >0.312612</td>\n",
       "      <td id=\"T_72937_row4_col6\" class=\"data row4 col6\" >0.994296</td>\n",
       "      <td id=\"T_72937_row4_col7\" class=\"data row4 col7\" >random forest</td>\n",
       "    </tr>\n",
       "    <tr>\n",
       "      <th id=\"T_72937_level0_row5\" class=\"row_heading level0 row5\" >5</th>\n",
       "      <td id=\"T_72937_row5_col0\" class=\"data row5 col0\" >test</td>\n",
       "      <td id=\"T_72937_row5_col1\" class=\"data row5 col1\" >0.849576</td>\n",
       "      <td id=\"T_72937_row5_col2\" class=\"data row5 col2\" >0.872544</td>\n",
       "      <td id=\"T_72937_row5_col3\" class=\"data row5 col3\" >0.849576</td>\n",
       "      <td id=\"T_72937_row5_col4\" class=\"data row5 col4\" >0.792969</td>\n",
       "      <td id=\"T_72937_row5_col5\" class=\"data row5 col5\" >0.141334</td>\n",
       "      <td id=\"T_72937_row5_col6\" class=\"data row5 col6\" >0.786314</td>\n",
       "      <td id=\"T_72937_row5_col7\" class=\"data row5 col7\" >random forest</td>\n",
       "    </tr>\n",
       "    <tr>\n",
       "      <th id=\"T_72937_level0_row6\" class=\"row_heading level0 row6\" >6</th>\n",
       "      <td id=\"T_72937_row6_col0\" class=\"data row6 col0\" >train</td>\n",
       "      <td id=\"T_72937_row6_col1\" class=\"data row6 col1\" >1.000000</td>\n",
       "      <td id=\"T_72937_row6_col2\" class=\"data row6 col2\" >1.000000</td>\n",
       "      <td id=\"T_72937_row6_col3\" class=\"data row6 col3\" >1.000000</td>\n",
       "      <td id=\"T_72937_row6_col4\" class=\"data row6 col4\" >1.000000</td>\n",
       "      <td id=\"T_72937_row6_col5\" class=\"data row6 col5\" >1.000000</td>\n",
       "      <td id=\"T_72937_row6_col6\" class=\"data row6 col6\" >1.000000</td>\n",
       "      <td id=\"T_72937_row6_col7\" class=\"data row6 col7\" >gradient</td>\n",
       "    </tr>\n",
       "    <tr>\n",
       "      <th id=\"T_72937_level0_row7\" class=\"row_heading level0 row7\" >7</th>\n",
       "      <td id=\"T_72937_row7_col0\" class=\"data row7 col0\" >test</td>\n",
       "      <td id=\"T_72937_row7_col1\" class=\"data row7 col1\" >0.862288</td>\n",
       "      <td id=\"T_72937_row7_col2\" class=\"data row7 col2\" >0.852528</td>\n",
       "      <td id=\"T_72937_row7_col3\" class=\"data row7 col3\" >0.862288</td>\n",
       "      <td id=\"T_72937_row7_col4\" class=\"data row7 col4\" >0.829285</td>\n",
       "      <td id=\"T_72937_row7_col5\" class=\"data row7 col5\" >0.304056</td>\n",
       "      <td id=\"T_72937_row7_col6\" class=\"data row7 col6\" >0.757875</td>\n",
       "      <td id=\"T_72937_row7_col7\" class=\"data row7 col7\" >gradient</td>\n",
       "    </tr>\n",
       "    <tr>\n",
       "      <th id=\"T_72937_level0_row8\" class=\"row_heading level0 row8\" >8</th>\n",
       "      <td id=\"T_72937_row8_col0\" class=\"data row8 col0\" >train</td>\n",
       "      <td id=\"T_72937_row8_col1\" class=\"data row8 col1\" >0.978202</td>\n",
       "      <td id=\"T_72937_row8_col2\" class=\"data row8 col2\" >0.978752</td>\n",
       "      <td id=\"T_72937_row8_col3\" class=\"data row8 col3\" >0.978202</td>\n",
       "      <td id=\"T_72937_row8_col4\" class=\"data row8 col4\" >0.977534</td>\n",
       "      <td id=\"T_72937_row8_col5\" class=\"data row8 col5\" >0.913229</td>\n",
       "      <td id=\"T_72937_row8_col6\" class=\"data row8 col6\" >0.998531</td>\n",
       "      <td id=\"T_72937_row8_col7\" class=\"data row8 col7\" >xgboost</td>\n",
       "    </tr>\n",
       "    <tr>\n",
       "      <th id=\"T_72937_level0_row9\" class=\"row_heading level0 row9\" >9</th>\n",
       "      <td id=\"T_72937_row9_col0\" class=\"data row9 col0\" >test</td>\n",
       "      <td id=\"T_72937_row9_col1\" class=\"data row9 col1\" >0.860169</td>\n",
       "      <td id=\"T_72937_row9_col2\" class=\"data row9 col2\" >0.842118</td>\n",
       "      <td id=\"T_72937_row9_col3\" class=\"data row9 col3\" >0.860169</td>\n",
       "      <td id=\"T_72937_row9_col4\" class=\"data row9 col4\" >0.834788</td>\n",
       "      <td id=\"T_72937_row9_col5\" class=\"data row9 col5\" >0.336175</td>\n",
       "      <td id=\"T_72937_row9_col6\" class=\"data row9 col6\" >0.767636</td>\n",
       "      <td id=\"T_72937_row9_col7\" class=\"data row9 col7\" >xgboost</td>\n",
       "    </tr>\n",
       "    <tr>\n",
       "      <th id=\"T_72937_level0_row10\" class=\"row_heading level0 row10\" >10</th>\n",
       "      <td id=\"T_72937_row10_col0\" class=\"data row10 col0\" >train</td>\n",
       "      <td id=\"T_72937_row10_col1\" class=\"data row10 col1\" >0.858311</td>\n",
       "      <td id=\"T_72937_row10_col2\" class=\"data row10 col2\" >0.865464</td>\n",
       "      <td id=\"T_72937_row10_col3\" class=\"data row10 col3\" >0.858311</td>\n",
       "      <td id=\"T_72937_row10_col4\" class=\"data row10 col4\" >0.808738</td>\n",
       "      <td id=\"T_72937_row10_col5\" class=\"data row10 col5\" >0.174805</td>\n",
       "      <td id=\"T_72937_row10_col6\" class=\"data row10 col6\" >nan</td>\n",
       "      <td id=\"T_72937_row10_col7\" class=\"data row10 col7\" >svc</td>\n",
       "    </tr>\n",
       "    <tr>\n",
       "      <th id=\"T_72937_level0_row11\" class=\"row_heading level0 row11\" >11</th>\n",
       "      <td id=\"T_72937_row11_col0\" class=\"data row11 col0\" >test</td>\n",
       "      <td id=\"T_72937_row11_col1\" class=\"data row11 col1\" >0.838983</td>\n",
       "      <td id=\"T_72937_row11_col2\" class=\"data row11 col2\" >0.824913</td>\n",
       "      <td id=\"T_72937_row11_col3\" class=\"data row11 col3\" >0.838983</td>\n",
       "      <td id=\"T_72937_row11_col4\" class=\"data row11 col4\" >0.773240</td>\n",
       "      <td id=\"T_72937_row11_col5\" class=\"data row11 col5\" >0.057983</td>\n",
       "      <td id=\"T_72937_row11_col6\" class=\"data row11 col6\" >nan</td>\n",
       "      <td id=\"T_72937_row11_col7\" class=\"data row11 col7\" >svc</td>\n",
       "    </tr>\n",
       "  </tbody>\n",
       "</table>\n"
      ],
      "text/plain": [
       "<pandas.io.formats.style.Styler at 0x17c7f13e5d0>"
      ]
     },
     "execution_count": 25,
     "metadata": {},
     "output_type": "execute_result"
    }
   ],
   "source": [
    "df_colores=df_metricas_comparacion_modelos.copy()\n",
    "df_colores.reset_index(inplace = True)\n",
    "df_colores = df_colores.style.apply(f.color_filas_por_modelo, axis=1)\n",
    "df_colores"
   ]
  },
  {
   "cell_type": "markdown",
   "metadata": {},
   "source": [
    "| Modelo            | Recall Test | Kappa Test | AUC Test | Diff Recall (Train-Test) | Diff Kappa (Train-Test) |\n",
    "|--------------------|-------------|------------|----------|--------------------------|-------------------------|\n",
    "| **Logística**     | 0.822       | 0.266      | 0.790    | 0.056                    | 0.104                  |\n",
    "| **Decision Tree** | 0.824       | 0.203      | 0.658    | 0.052                    | 0.223                  |\n",
    "| **Random Forest** | 0.850       | 0.141      | 0.786    | 0.026                    | 0.171                  |\n",
    "| **Gradient Boost**| 0.862       | 0.304      | 0.758    | 0.138                    | 0.696                  |\n",
    "| **XGBoost**       | 0.860       | 0.336      | 0.768    | 0.118                    | 0.577                  |\n",
    "| **SVC**           | 0.839       | 0.058      | N/A      | 0.019                    | 0.117                  |\n"
   ]
  },
  {
   "cell_type": "markdown",
   "metadata": {},
   "source": [
    "**Finalmente tras comparar todos los mejores modelos, nos decicidmos quedar con el XGBoost**"
   ]
  }
 ],
 "metadata": {
  "kernelspec": {
   "display_name": "Python 3",
   "language": "python",
   "name": "python3"
  },
  "language_info": {
   "codemirror_mode": {
    "name": "ipython",
    "version": 3
   },
   "file_extension": ".py",
   "mimetype": "text/x-python",
   "name": "python",
   "nbconvert_exporter": "python",
   "pygments_lexer": "ipython3",
   "version": "3.11.9"
  }
 },
 "nbformat": 4,
 "nbformat_minor": 2
}
